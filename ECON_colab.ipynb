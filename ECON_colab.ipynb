{
  "cells": [
    {
      "cell_type": "markdown",
      "metadata": {
        "id": "view-in-github"
      },
      "source": [
        "[![Open In Colab](https://colab.research.google.com/assets/colab-badge.svg)](https://colab.research.google.com/github/camenduru/ECON-colab/blob/main/ECON_colab.ipynb)"
      ]
    },
    {
      "cell_type": "code",
      "execution_count": null,
      "metadata": {
        "id": "VBZTy2bYmJay"
      },
      "outputs": [],
      "source": [
        "# !apt install libgl1 freeglut3-dev unzip ffmpeg libsm6 libxext6 libgl1-mesa-dri libegl1-mesa libgbm1 build-essential libeigen3-dev\n",
        "!git clone -b dev https://github.com/camenduru/ECON-hf\n",
        "%cd /content/ECON-hf\n",
        "!pip install -r requirements.txt\n",
        "\n",
        "%cd /content/ECON-hf/lib/common/libmesh\n",
        "!python setup.py build_ext --inplace\n",
        "%cd /content/ECON-hf/lib/common/libvoxelize\n",
        "!python setup.py build_ext --inplace\n",
        "\n",
        "%cd /content/ECON-hf\n",
        "!python app.py"
      ]
    }
  ],
  "metadata": {
    "accelerator": "GPU",
    "colab": {
      "gpuType": "T4",
      "provenance": []
    },
    "kernelspec": {
      "display_name": "Python 3",
      "name": "python3"
    },
    "language_info": {
      "name": "python"
    }
  },
  "nbformat": 4,
  "nbformat_minor": 0
}
