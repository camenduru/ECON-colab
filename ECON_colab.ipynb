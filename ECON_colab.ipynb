{
    "nbformat": 4,
    "nbformat_minor": 0,
    "metadata": {
      "colab": {
        "provenance": [],
        "gpuType": "T4"
      },
      "kernelspec": {
        "name": "python3",
        "display_name": "Python 3"
      },
      "language_info": {
        "name": "python"
      },
      "accelerator": "GPU"
    },
    "cells": [
        {
          "cell_type": "markdown",
          "metadata": {
            "id": "view-in-github"
          },
          "source": [
            "[![Open In Colab](https://colab.research.google.com/assets/colab-badge.svg)](https://colab.research.google.com/github/camenduru/ECON-colab/blob/main/ECON_colab.ipynb)"
          ]
        },
      {
        "cell_type": "code",
        "source": [
          "!git clone -b dev https://github.com/camenduru/ECON-hf\n",
          "%cd /content/ECON-hf\n",
          "!pip install -r requirements.txt\n",
          "!python app.py"
        ],
        "metadata": {
          "id": "VBZTy2bYmJay"
        },
        "execution_count": null,
        "outputs": []
      }
    ]
  }