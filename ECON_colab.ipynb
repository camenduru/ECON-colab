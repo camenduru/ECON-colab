{
  "cells": [
    {
      "cell_type": "markdown",
      "metadata": {
        "id": "view-in-github"
      },
      "source": [
        "[![Open In Colab](https://colab.research.google.com/assets/colab-badge.svg)](https://colab.research.google.com/github/camenduru/ECON-colab/blob/main/ECON_colab.ipynb)"
      ]
    },
    {
      "cell_type": "code",
      "execution_count": null,
      "metadata": {},
      "outputs": [],
      "source": [
        "!mkdir -p /content/obligation\n",
        "\n",
        "# According to license\n",
        "# we have to register and download the models\n",
        "# at https://icon.is.tue.mpg.de/register.php\n",
        "username = \"\" #@param {type:\"string\"}\n",
        "password = \"\" #@param {type:\"string\"}\n",
        "\n",
        "!wget --post-data \"username=${username}&password=${password}\" 'https://download.is.tue.mpg.de/download.php?domain=smpl&sfile=SMPL_python_v.1.0.0.zip&resume=1' -O '/content/obligation/SMPL_python_v.1.0.0.zip' --no-check-certificate --continue\n",
        "!wget --post-data \"username=${username}&password=${password}\" 'https://download.is.tue.mpg.de/download.php?domain=smplify&sfile=mpips_smplify_public_v2.zip&resume=1' -O '/content/obligation/mpips_smplify_public_v2.zip' --no-check-certificate --continue\n",
        "!wget --post-data \"username=${username}&password=${password}\" 'https://download.is.tue.mpg.de/download.php?domain=smplx&sfile=models_smplx_v1_1.zip&resume=1' -O '/content/obligation/models_smplx_v1_1.zip' --no-check-certificate --continue\n",
        "!wget --post-data \"username=${username}&password=${password}\" 'https://download.is.tue.mpg.de/download.php?domain=icon&sfile=econ_data.zip&resume=1' -O '/content/obligation/econ_data.zip' --no-check-certificate --continue\n",
        "!wget --post-data \"username=${username}&password=${password}\" 'https://download.is.tue.mpg.de/download.php?domain=icon&sfile=HPS/pixie_data.zip&resume=1' -O '/content/obligation/pixie_data.zip' --no-check-certificate --continue\n",
        "!wget --post-data \"username=${username}&password=${password}\" 'https://download.is.tue.mpg.de/download.php?domain=icon&sfile=HPS/pymafx_data.zip&resume=1' -O '/content/obligation/pymafx_data.zip' --no-check-certificate --continue"
      ]
    },
    {
      "cell_type": "code",
      "execution_count": null,
      "metadata": {
        "id": "VBZTy2bYmJay"
      },
      "outputs": [],
      "source": [
        "# !apt install libgl1 freeglut3-dev unzip ffmpeg libsm6 libxext6 libgl1-mesa-dri libegl1-mesa libgbm1 build-essential libeigen3-dev\n",
        "!git clone -b dev https://github.com/camenduru/ECON-hf\n",
        "%cd /content/ECON-hf\n",
        "!pip install -r requirements.txt\n",
        "\n",
        "%cd /content/ECON-hf/lib/common/libmesh\n",
        "!python setup.py build_ext --inplace\n",
        "%cd /content/ECON-hf/lib/common/libvoxelize\n",
        "!python setup.py build_ext --inplace\n",
        "\n",
        "%cd /content/ECON-hf\n",
        "!python app.py"
      ]
    }
  ],
  "metadata": {
    "accelerator": "GPU",
    "colab": {
      "gpuType": "T4",
      "provenance": []
    },
    "kernelspec": {
      "display_name": "Python 3",
      "name": "python3"
    },
    "language_info": {
      "name": "python"
    }
  },
  "nbformat": 4,
  "nbformat_minor": 0
}
